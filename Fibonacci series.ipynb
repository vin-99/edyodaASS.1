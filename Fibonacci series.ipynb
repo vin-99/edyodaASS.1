{
 "cells": [
  {
   "cell_type": "code",
   "execution_count": null,
   "id": "fcf1f96c",
   "metadata": {},
   "outputs": [],
   "source": [
    "var = int(input(\"Enter the Number where you want the series: \"))\n",
    "\n",
    "a = 0\n",
    "b = 1\n",
    "ind = 1\n",
    "while ind<=var:\n",
    "    c = a + b\n",
    "    a = b\n",
    "    b = c\n",
    "    ind+=1\n",
    "    print(a, end=\" , \")"
   ]
  }
 ],
 "metadata": {
  "kernelspec": {
   "display_name": "Python 3 (ipykernel)",
   "language": "python",
   "name": "python3"
  },
  "language_info": {
   "codemirror_mode": {
    "name": "ipython",
    "version": 3
   },
   "file_extension": ".py",
   "mimetype": "text/x-python",
   "name": "python",
   "nbconvert_exporter": "python",
   "pygments_lexer": "ipython3",
   "version": "3.10.1"
  }
 },
 "nbformat": 4,
 "nbformat_minor": 5
}
