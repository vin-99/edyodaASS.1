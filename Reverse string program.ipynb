{
 "cells": [
  {
   "cell_type": "code",
   "execution_count": 4,
   "id": "8d1501d6",
   "metadata": {},
   "outputs": [
    {
     "name": "stdout",
     "output_type": "stream",
     "text": [
      "Enter anything you want to reverseMy name is sajal tiwari!! How you doing?\n",
      "Here is the reverse string ?gniod uoy woH !!irawit lajas si eman yM\n"
     ]
    }
   ],
   "source": [
    "fab = input(\"Enter anything you want to reverse\")\n",
    "\n",
    "v = len(fab)\n",
    "cc = fab[v::-1]\n",
    "print(\"Here is the reverse string\", cc)"
   ]
  },
  {
   "cell_type": "code",
   "execution_count": null,
   "id": "3af70b6f",
   "metadata": {},
   "outputs": [],
   "source": []
  }
 ],
 "metadata": {
  "kernelspec": {
   "display_name": "Python 3 (ipykernel)",
   "language": "python",
   "name": "python3"
  },
  "language_info": {
   "codemirror_mode": {
    "name": "ipython",
    "version": 3
   },
   "file_extension": ".py",
   "mimetype": "text/x-python",
   "name": "python",
   "nbconvert_exporter": "python",
   "pygments_lexer": "ipython3",
   "version": "3.10.1"
  }
 },
 "nbformat": 4,
 "nbformat_minor": 5
}
