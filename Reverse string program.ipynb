{
 "cells": [
  {
   "cell_type": "code",
   "execution_count": 3,
   "id": "26a3cac9",
   "metadata": {},
   "outputs": [
    {
     "name": "stdout",
     "output_type": "stream",
     "text": [
      "Enter anything you want to reversedjjfkhjfbsbfhvjesbfmc\n",
      "Here is the reverse string cmfbsejvhfbsbfjhkfjjd\n"
     ]
    }
   ],
   "source": [
    "fab = input(\"Enter anything you want to reverse\")\n",
    "\n",
    "v = len(fab)\n",
    "cc = fab[v::-1]\n",
    "print(\"Here is the reverse string\", cc)"
   ]
  },
  {
   "cell_type": "code",
   "execution_count": null,
   "id": "ca3294ef",
   "metadata": {},
   "outputs": [],
   "source": []
  }
 ],
 "metadata": {
  "kernelspec": {
   "display_name": "Python 3 (ipykernel)",
   "language": "python",
   "name": "python3"
  },
  "language_info": {
   "codemirror_mode": {
    "name": "ipython",
    "version": 3
   },
   "file_extension": ".py",
   "mimetype": "text/x-python",
   "name": "python",
   "nbconvert_exporter": "python",
   "pygments_lexer": "ipython3",
   "version": "3.10.1"
  }
 },
 "nbformat": 4,
 "nbformat_minor": 5
}
